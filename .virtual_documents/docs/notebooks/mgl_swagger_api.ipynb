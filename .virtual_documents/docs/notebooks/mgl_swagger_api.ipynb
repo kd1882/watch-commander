import sys
# !{sys.executable} -m pip install 'pandas'
# !{sys.executable} -m pip install 'certifi' --upgrade



import requests
import certifi
import pandas as pd





!pip list


import pandas as pd
import subprocess
import json

def fetch_data_with_curl(url):

    headers = ["accept: application/json"]
    
    try:
        result = subprocess.run(['curl', '-s', '-X', 'GET', url, '-H'] + headers, 
                                capture_output=True, check=True, text=True)

        return json.loads(result.stdout)
    except subprocess.CalledProcessError as e:
        raise Exception(f"Error fetching data from {url}: {e}") from e

url = "https://malegislature.gov/api/Chapters"
data = fetch_data_with_curl(url)

df = pd.DataFrame(data)

print(df)



df['Code']


# Pull and retrieve all chapters in json
chapters_request_url = "https://malegislature.gov/api/Chapters"

chapter_response = requests.get(chapters_request_url)

if chapter_response.status_code == 200:
    chapter_json = chapter_response.json()
else: chapter_response.raise_for_status()

print(chapter_json)


# path of cert
certifi.where()


# Attempt #2 with certifi
chapter_response = requests.get(chapters_request_url, verify=certifi.where())

if chapter_response.status_code == 200:
    chapter_json = chapter_response.json()
else: chapter_response.raise_for_status()

print(chapter_json)


# Attempt #3 with verify off
chapter_response = requests.get(chapters_request_url, verify=False)

if chapter_response.status_code == 200:
    chapter_json = chapter_response.json()
else: chapter_response.raise_for_status()

print(chapter_json)


# Create dataframe from request
df = pd.DataFrame(chapter_json)

# make a list of chapters that are relevant and apply a filter
mgl_chapters = ["90", "263", "263A", "264", "265", "266", "267", "267A", "268", "268A", "268B", "269", "270", "271", "271A", "272", "273", "273A", "274"]
filtered_df = df[df['Code'].isin(mgl_chapters)]

filtered_df


# Test of pulling all chapter 90 sections
c90_request_url = "https://malegislature.gov/api/Chapters/90/Sections"
c90_response = requests.get(c90_request_url, verify=False)

if c90_response.status_code == 200:
    c90_json = c90_response.json()
else: c90_response.raise_for_status()

df2 = pd.DataFrame(c90_json)
df2




# list of c90 sections
df2['Code'].to_list()


# Test of pulling c90s10

c90s10_request_url = "https://malegislature.gov/api/Chapters/90/Sections/10"
c90s10_response = requests.get(c90s10_request_url, verify=False)

if c90s10_response.status_code == 200:
    c90s10_json = c90s10_response.json()
else: c90s10_response.raise_for_status()

df3 = pd.DataFrame(c90s10_json)


df3


# pull raw string of pd's to get formatted into a list, dropping extra characters
raw_string = """
    Abington Police Department
    Acton Police Department
    Acushnet Police Department
    Adams Police Department[7]
    Agawam Police Department[8]
    Alford Police Department
    Andover Police Department
    Amesbury Police Department
    Amherst Police Department
    Arlington Police Department
    Ashburnham Police Department
    Ashby Police Department
    Ashfield Police Department
    Ashland Police Department
    Aquinnah Police Department
    Athol Police Department
    Attleboro Police Department[9]
    Auburn Police Department
    Avon Police Department
    Ayer Police Department
    Barnstable Police Department[10]
    Barre Police Department
    Becket Police Department
    Bedford Police Department[11]
    Belchertown Police Department
    Bellingham Police Department
    Belmont Police Department
    Berkley Police Department[citation needed]
    Berlin Police Department[citation needed]
    Bernardston Police Department
    Beverly Police Department
    Billerica Police Department
    Blackstone Police Department[citation needed]
    Blandford Police Department[12]
    Bolton Police Department
    Boston Police Department[13]
    Bourne Police Department[14]
    Boxborough Police Department
    Boxford Police Department
    Boylston Police Department
    Braintree Police Department[15]
    Brewster Police Department
    Bridgewater Police Department
    Brimfield Police Department
    Brockton Police Department[16]
    Brookfield Police Department
    Brookline Police Department
    Buckland Police Department
    Burlington Police Department
    Cambridge Police Department[17]
    Canton Police Department
    Carlisle Police Department
    Carver Police Department
    Charlemont Police Department
    Charlton Police Department
    Chatham Police Department
    Chelmsford Police Department
    Chelsea Police Department[18]
    Cheshire Police Department
    Chester Police Department
    Chesterfield Police Department
    Chicopee Police Department[19]
    Chilmark Police Department
    Clarksburg Police Department
    Clinton Police Department
    Cohasset Police Department
    Colrain Police Department
    Concord Police Department
    Conway Police Department
    Cummington Police Department
    Dalton Police Department
    Danvers Police Department
    Dartmouth Police Department
    Dedham Police Department
    Deerfield Police Department
    Dennis Police Department
    Dighton Police Department
    Douglas Police Department
    Dover Police Department
    Dracut Police Department
    Dudley Police Department
    Dunstable Police Department
    Duxbury Police Department
    East Bridgewater Police Department
    East Brookfield Police Department
    East Longmeadow Police Department
    Eastham Police Department
    Easthampton Police Department
    Easton Police Department
    Edgartown Police Department
    Egremont Police Department
    Erving Police Department
    Essex Police Department
    Everett Police Department[20]
    Fairhaven Police Department
    Fall River Police Department[21]
    Falmouth Police Department[22]
    Fitchburg Police Department[23]
    Foxborough Police Department
    Framingham Police Department
    Franklin Police Department[24]
    Freetown Police Department
    Gardner Police Department
    Georgetown Police Department
    Gill Police Department
    Gloucester Police Department
    Goshen Police Department
    Gosnold Police Department
    Grafton Police Department
    Granby Police Department
    Granville Police Department
    Great Barrington Police Department
    Greenfield Police Department
    Groton Police Department
    Hadley Police Department
    Halifax Police Department
    Hamilton Police Department
    Hampden Police Department
    Hancock Police Department
    Hanover Police Department
    Hanson Police Department
    Hardwick Police Department
    Harvard Police Department
    Harwich Police Department
    Hatfield Police Department
    Haverhill Police Department[25]
    Hawley Police Department
    Heath Police Department
    Hingham Police Department
    Hinsdale Police Department
    Holbrook Police Department
    Holden Police Department
    Holland Police Department
    Holliston Police Department
    Holyoke Police Department[26]
    Hopedale Police Department
    Hopkinton Police Department
    Hubbardston Police Department
    Hudson Police Department
    Hull Police Department[27]
    Huntington Police Department
    Ipswich Police Department
    Kingston Police Department
    Lancaster Police Department
    Lanesborough Police Department
    Lakeville Police Department
    Lawrence Police Department[28]
    Lee Police Department[29]
    Leicester Police Department
    Lenox Police Department
    Leominster Police Department
    Leverett Police Department
    Lexington Police Department
    Leyden Police Department
    Lincoln Police Department
    Littleton Police Department
    Longmeadow Police Department
    Lowell Police Department[30]
    Ludlow Police Department
    Lunnenburg Police Department
    Lynn Police Department[31]
    Lynnfield Police Department
    Malden Police Department[32]
    Manchester-by-the-Sea Police Department
    Mansfield Police Department
    Marion Police Department
    Marblehead Police Department
    Marlborough Police Department[33]
    Marshfield Police Department
    Mashpee Police Department[citation needed]
    Mattapoisett Police Department[citation needed]
    Maynard Police Department
    Medfield Police Department
    Medford Police Department[34]
    Medway Police Department
    Melrose Police Department[35]
    Mendon Police Department
    Merrimac Police Department[citation needed]
    Methuen Police Department[36]
    Middleborough Police Department
    Middlefield Police Department
    Middleton Police Department
    Milford Police Department
    Millbury Police Department[37]
    Millis Police Department
    Milleville Police Department
    Milton Police Department
    Monson Police Department
    Montague Police Department
    Monterey Police Department
    Nahant Police Department
    Nantucket Police Department
    Natick Police Department
    Needham Police Department
    New Bedford Police Department[38]
    New Braintree Police Department
    New Marlborough Police Department
    New Salem Police Department
    Newbury Police Department
    Newburyport Police Department
    Newton Police Department[39]
    Norfolk Police Department
    North Adams Police Department[40]
    North Andover Police Department
    North Attleborough Police Department
    North Brookfield Police Department
    North Reading Police Department
    Northampton Police Department[41]
    Northborough Police Department
    Northbridge Police Department
    Northfield Police Department
    Norton Police Department
    Norwell Police Department[42]
    Norwood Police Department
    Oak Bluffs Police Department
    Oakham Police Department
    Orange Police Department
    Orleans Police Department
    Otis Police Department
    Oxford Police Department
    Palmer Police Department
    Paxton Police Department
    Peabody Police Department[43]
    Pepperell Police Department
    Pelham Police Department
    Pembroke Police Department
    Peru Police Department
    Petersham Police Department
    Phillipston Police Department
    Pittsfield Police Department[44]
    Plainfield Police Department
    Plainville Police Department
    Plymouth Police Department
    Plympton Police Department
    Princeton Police Department
    Provincetown Police Department[45]
    Quincy Police Department[46]
    Raynham Police Department
    Randolph Police Department
    Reading Police Department
    Rehoboth Police Department
    Revere Police Department[47]
    Richmond Police Department
    Rochester Police Department
    Rockland Police Department
    Rockport Police Department
    Rowe Police Department
    Rowley Police Department
    Royalston Police Department
    Russell Police Department
    Rutland Police Department
    Salem Police Department[48]
    Salisbury Police Department
    Sandisfield Police Department
    Sandwich Police Department[49]
    Saugus Police Department
    Savoy Police Department
    Scituate Police Department
    Seekonk Police Department[50]
    Sharon Police Department
    Sheffield Police Department
    Shelburne Police Department
    Sherborne Police Department
    Shirley Police Department
    Shrewsbury Police Department
    Shutesbury Police Department
    Somerset Police Department
    Somerville Police Department[51]
    South Hadley Police Department
    Southborough Police Department
    Southbridge Police Department
    Southampton Police Department
    Southwick Police Department
    Spencer Police Department
    Springfield Police Department[52]
    Sterling Police Department
    Stockbridge Police Department
    Stoneham Police Department
    Stoughton Police Department
    Stow Police Department
    Sturbridge Police Department
    Sudbury Police Department
    Sutton Police Department
    Swansea Police Department
    Swampscott Police Department
    Taunton Police Department[53]
    Templeton Police Department
    Tewksbury Police Department[54]
    Tisbury Police Department
    Tolland Police Department
    Topsfield Police Department
    Townsend Police Department
    Truro Police Department[55]
    Tynsborough Police Department
    Tyringham Police Department
    Upton Police Department
    Uxbridge Police Department
    Wakefield Police Department
    Wales Police Department
    Walpole Police Department
    Waltham Police Department[56]
    Ware Police Department
    Wareham Police Department[57]
    Warren Police Department
    Warwick Police Department
    Washington Police Department
    Watertown Police Department[58]
    Wayland Police Department
    Webster Police Department
    Wellesley Police Department
    Wellfleet Police Department[59]
    Wendell Police Department
    Wenham Police Department
    West Boylston Police Department
    West Bridgewater Police Department
    West Brookfield Police Department
    West Newbury Police Department
    West Springfield Police Department[60]
    West Stockbridge Police Department
    West Tisbury Police Department
    Westborough Police Department
    Westhampton Police Department
    Westfield Police Department[61]
    Westford Police Department
    Westminster Police Department
    Westport Police Department
    Weston Police Department
    Westwood Police Department
    Weymouth Police Department[62]
    Whately Police Department
    Whitman Police Department
    Wilbraham Police Department
    Williamsburg Police Department
    Williamstown Police Department
    Wilmington Police Department
    Winchendon Police Department
    Winchester Police Department
    Windsor Police Department
    Winthrop Police Department
    Woburn Police Department[63]
    Worcester Police Department[64]
    Worthington Police Department
    Wrentham Police Department
    Yarmouth Police Department[65]"""


lines = [line.strip() for line in raw_string.split('\n') if line.strip()]
town_police_departments = [line for line in lines if line.endswith(" Police Department")]


town_police_departments




